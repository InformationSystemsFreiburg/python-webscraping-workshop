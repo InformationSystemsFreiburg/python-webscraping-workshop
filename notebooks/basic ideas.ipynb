{
 "cells": [
  {
   "cell_type": "markdown",
   "metadata": {},
   "source": [
    "# Web-Scraping with Python"
   ]
  },
  {
   "cell_type": "markdown",
   "metadata": {},
   "source": [
    "## From 0 to Data Scientist with Python - Reading and Watching List\n",
    "This list should be followed step by step. There are a few overlaps between the resources, but overall the next step most often requires knowledge of the previous step.\n",
    "\n",
    "**If you do not have any prior programming experience**\n",
    "0. Automate the boring stuff with python\n",
    "  * https://automatetheboringstuff.com/\n",
    "\n",
    "**If you have prior programming experience**\n",
    "1. The Quick Python Book\n",
    "  * https://www.manning.com/books/the-quick-python-book-third-edition\n",
    "2. Intro to Numerical Computing with NumPy (Beginner)\n",
    "  * https://www.youtube.com/watch?v=V0D2mhVt7NE\n",
    "3. Pandas for Data Analysis\n",
    "  * https://www.youtube.com/watch?v=oGzU688xCUs\n",
    "6. Web Scraping with BeautifulSoup and Requests\n",
    "  * https://www.youtube.com/watch?v=ng2o98k983k\n",
    "4. Data Visualization and Exploration with Python\n",
    "  * https://www.youtube.com/watch?v=KvZ2KSxlWBY\n",
    "5. Hands-On Machine Learning with Scikit-Learn and TensorFlow\n",
    "  * Read until \"Part II. Neural Networks and Deep Learning\"\n",
    "  * http://shop.oreilly.com/product/0636920052289.do\n",
    "6. Deep Learning with Python, TensorFlow, and Keras tutorial - Playlist\n",
    "  * https://www.youtube.com/watch?v=wQ8BIBpya2k&list=PLQVvvaa0QuDfhTox0AjmQ6tvTgMBZBEXN\n",
    "7. But what is a Deep Neural Network?\n",
    "  * https://www.youtube.com/watch?v=aircAruvnKk\n",
    "  * https://www.youtube.com/watch?v=IHZwWFHWa-w\n",
    "8. Deep Learning with Python\n",
    "  * https://www.manning.com/books/deep-learning-with-python\n",
    "9. Hands-On Machine Learning with Scikit-Learn and TensorFlow\n",
    "  * Read from \"Part II. Neural Networks and Deep Learning\"\n",
    "  * http://shop.oreilly.com/product/0636920052289.do\n",
    "  \n",
    "**Additional suggested material**\n",
    "* Jupyterlab as a development environment - Getting Started with JupyterLab (Beginner Level)\n",
    "  * https://www.youtube.com/watch?v=Gzun8PpyBCo\n",
    "* Docker for Data Scientists\n",
    "  * https://towardsdatascience.com/docker-for-data-scientists-5732501f0ba4\n",
    "* Stanford Lecture Collection | Convolutional Neural Networks for Visual Recognition (Spring 2017) \n",
    "  * https://www.youtube.com/watch?v=vT1JzLTH4G4&list=PL3FW7Lu3i5JvHM8ljYj-zLfQRF3EO8sYv\n",
    "* Statistical modelling with python (statsmodels)\n",
    "  * https://www.youtube.com/watch?v=V86gTgL1FRw\n",
    "  * https://www.statsmodels.org/stable/index.html"
   ]
  },
  {
   "cell_type": "markdown",
   "metadata": {},
   "source": [
    "# Programming in Python"
   ]
  },
  {
   "cell_type": "markdown",
   "metadata": {},
   "source": [
    "Consider the following example: you are going grocery shopping..."
   ]
  },
  {
   "cell_type": "markdown",
   "metadata": {},
   "source": [
    "## **assign variables, print function**"
   ]
  },
  {
   "cell_type": "code",
   "execution_count": 100,
   "metadata": {},
   "outputs": [],
   "source": [
    "first_item = 'banana'"
   ]
  },
  {
   "cell_type": "code",
   "execution_count": 101,
   "metadata": {},
   "outputs": [
    {
     "name": "stdout",
     "output_type": "stream",
     "text": [
      "banana\n"
     ]
    }
   ],
   "source": [
    "print(first_item)"
   ]
  },
  {
   "cell_type": "code",
   "execution_count": 102,
   "metadata": {},
   "outputs": [
    {
     "data": {
      "text/plain": [
       "str"
      ]
     },
     "execution_count": 102,
     "metadata": {},
     "output_type": "execute_result"
    }
   ],
   "source": [
    "type(first_item)"
   ]
  },
  {
   "cell_type": "markdown",
   "metadata": {},
   "source": [
    ".. want to check out prices for apples"
   ]
  },
  {
   "cell_type": "code",
   "execution_count": 103,
   "metadata": {},
   "outputs": [],
   "source": [
    "second_item = 'apple'"
   ]
  },
  {
   "cell_type": "code",
   "execution_count": 104,
   "metadata": {},
   "outputs": [],
   "source": [
    "shopping_cart = [first_item, second_item]"
   ]
  },
  {
   "cell_type": "code",
   "execution_count": 105,
   "metadata": {},
   "outputs": [
    {
     "data": {
      "text/plain": [
       "['banana', 'apple']"
      ]
     },
     "execution_count": 105,
     "metadata": {},
     "output_type": "execute_result"
    }
   ],
   "source": [
    "shopping_cart"
   ]
  },
  {
   "cell_type": "code",
   "execution_count": 106,
   "metadata": {},
   "outputs": [
    {
     "data": {
      "text/plain": [
       "list"
      ]
     },
     "execution_count": 106,
     "metadata": {},
     "output_type": "execute_result"
    }
   ],
   "source": [
    "type(shopping_cart)"
   ]
  },
  {
   "cell_type": "code",
   "execution_count": 107,
   "metadata": {},
   "outputs": [],
   "source": [
    "third_item, fourth_item = 'milk', 'tomato'"
   ]
  },
  {
   "cell_type": "code",
   "execution_count": 108,
   "metadata": {},
   "outputs": [
    {
     "name": "stdout",
     "output_type": "stream",
     "text": [
      "['banana', 'apple', 'milk']\n"
     ]
    }
   ],
   "source": [
    "shopping_cart.append(third_item)\n",
    "print(shopping_cart)"
   ]
  },
  {
   "cell_type": "code",
   "execution_count": 109,
   "metadata": {},
   "outputs": [
    {
     "name": "stdout",
     "output_type": "stream",
     "text": [
      "['banana', 'apple', 'milk', 'tomato']\n"
     ]
    }
   ],
   "source": [
    "shopping_cart.append(fourth_item)\n",
    "print(shopping_cart)"
   ]
  },
  {
   "cell_type": "code",
   "execution_count": 110,
   "metadata": {},
   "outputs": [
    {
     "data": {
      "text/plain": [
       "'banana'"
      ]
     },
     "execution_count": 110,
     "metadata": {},
     "output_type": "execute_result"
    }
   ],
   "source": [
    "shopping_cart[0]"
   ]
  },
  {
   "cell_type": "code",
   "execution_count": 111,
   "metadata": {},
   "outputs": [
    {
     "data": {
      "text/plain": [
       "'apple'"
      ]
     },
     "execution_count": 111,
     "metadata": {},
     "output_type": "execute_result"
    }
   ],
   "source": [
    "shopping_cart[1]"
   ]
  },
  {
   "cell_type": "code",
   "execution_count": 112,
   "metadata": {},
   "outputs": [
    {
     "data": {
      "text/plain": [
       "'tomato'"
      ]
     },
     "execution_count": 112,
     "metadata": {},
     "output_type": "execute_result"
    }
   ],
   "source": [
    "shopping_cart[3]"
   ]
  },
  {
   "cell_type": "code",
   "execution_count": 113,
   "metadata": {},
   "outputs": [
    {
     "data": {
      "text/plain": [
       "['banana', 'apple', 'milk']"
      ]
     },
     "execution_count": 113,
     "metadata": {},
     "output_type": "execute_result"
    }
   ],
   "source": [
    "shopping_cart[0:3]"
   ]
  },
  {
   "cell_type": "code",
   "execution_count": 114,
   "metadata": {},
   "outputs": [
    {
     "data": {
      "text/plain": [
       "'tomato'"
      ]
     },
     "execution_count": 114,
     "metadata": {},
     "output_type": "execute_result"
    }
   ],
   "source": [
    "shopping_cart[-1]"
   ]
  },
  {
   "cell_type": "code",
   "execution_count": 115,
   "metadata": {},
   "outputs": [],
   "source": [
    "del shopping_cart[-1]"
   ]
  },
  {
   "cell_type": "code",
   "execution_count": 116,
   "metadata": {},
   "outputs": [
    {
     "ename": "IndexError",
     "evalue": "list index out of range",
     "output_type": "error",
     "traceback": [
      "\u001b[0;31m---------------------------------------------------------------------------\u001b[0m",
      "\u001b[0;31mIndexError\u001b[0m                                Traceback (most recent call last)",
      "\u001b[0;32m<ipython-input-116-1aafdb125df3>\u001b[0m in \u001b[0;36m<module>\u001b[0;34m\u001b[0m\n\u001b[0;32m----> 1\u001b[0;31m \u001b[0mshopping_cart\u001b[0m\u001b[0;34m[\u001b[0m\u001b[0;36m3\u001b[0m\u001b[0;34m]\u001b[0m\u001b[0;34m\u001b[0m\u001b[0;34m\u001b[0m\u001b[0m\n\u001b[0m",
      "\u001b[0;31mIndexError\u001b[0m: list index out of range"
     ]
    }
   ],
   "source": [
    "shopping_cart[3]"
   ]
  },
  {
   "cell_type": "code",
   "execution_count": 117,
   "metadata": {},
   "outputs": [
    {
     "data": {
      "text/plain": [
       "['banana', 'apple', 'milk']"
      ]
     },
     "execution_count": 117,
     "metadata": {},
     "output_type": "execute_result"
    }
   ],
   "source": [
    "shopping_cart"
   ]
  },
  {
   "cell_type": "code",
   "execution_count": 118,
   "metadata": {},
   "outputs": [],
   "source": [
    "more_stuff = ['eggs', 'bread', 'pepper', 'salt']"
   ]
  },
  {
   "cell_type": "code",
   "execution_count": 119,
   "metadata": {},
   "outputs": [],
   "source": [
    "shopping_cart.extend(more_stuff)"
   ]
  },
  {
   "cell_type": "code",
   "execution_count": 120,
   "metadata": {},
   "outputs": [
    {
     "data": {
      "text/plain": [
       "['banana', 'apple', 'milk', 'eggs', 'bread', 'pepper', 'salt']"
      ]
     },
     "execution_count": 120,
     "metadata": {},
     "output_type": "execute_result"
    }
   ],
   "source": [
    "shopping_cart"
   ]
  },
  {
   "cell_type": "code",
   "execution_count": 121,
   "metadata": {},
   "outputs": [
    {
     "data": {
      "text/plain": [
       "7"
      ]
     },
     "execution_count": 121,
     "metadata": {},
     "output_type": "execute_result"
    }
   ],
   "source": [
    "len(shopping_cart)"
   ]
  },
  {
   "cell_type": "code",
   "execution_count": 122,
   "metadata": {},
   "outputs": [
    {
     "name": "stdout",
     "output_type": "stream",
     "text": [
      "0: banana\n",
      "1: apple\n",
      "2: milk\n",
      "3: eggs\n",
      "4: bread\n",
      "5: pepper\n",
      "6: salt\n"
     ]
    }
   ],
   "source": [
    "n = 0 \n",
    "for item in shopping_cart:\n",
    "    print(str(n) + ': ' + item)\n",
    "    n = n + 1"
   ]
  },
  {
   "cell_type": "code",
   "execution_count": 123,
   "metadata": {},
   "outputs": [],
   "source": [
    "shopping_cart_singles = {\n",
    "    \"apple\",\n",
    "    \"apple\",\n",
    "    \"apple\",\n",
    "    \"banana\",\n",
    "    \"banana\",\n",
    "    \"banana\",\n",
    "    \"eggs\",\n",
    "    \"bread\",\n",
    "    \"pepper\",\n",
    "    \"salt\",\n",
    "}"
   ]
  },
  {
   "cell_type": "code",
   "execution_count": 124,
   "metadata": {},
   "outputs": [
    {
     "data": {
      "text/plain": [
       "{'apple', 'banana', 'bread', 'eggs', 'pepper', 'salt'}"
      ]
     },
     "execution_count": 124,
     "metadata": {},
     "output_type": "execute_result"
    }
   ],
   "source": [
    "shopping_cart_singles"
   ]
  },
  {
   "cell_type": "code",
   "execution_count": 125,
   "metadata": {},
   "outputs": [
    {
     "data": {
      "text/plain": [
       "set"
      ]
     },
     "execution_count": 125,
     "metadata": {},
     "output_type": "execute_result"
    }
   ],
   "source": [
    "type(shopping_cart_singles)"
   ]
  },
  {
   "cell_type": "code",
   "execution_count": 126,
   "metadata": {},
   "outputs": [],
   "source": [
    "shopping_cart_with_prices = {\n",
    "    \"banana\": 1.00,\n",
    "    \"apple\": 0.50,\n",
    "    \"milk\": 0.99,\n",
    "    \"tomato\": 0.10,\n",
    "    \"eggs\": 1.00,\n",
    "    \"bread\": 2.5,\n",
    "    \"pepper\": 5.00,\n",
    "    \"salt\": 0.50,\n",
    "}"
   ]
  },
  {
   "cell_type": "code",
   "execution_count": 127,
   "metadata": {},
   "outputs": [
    {
     "data": {
      "text/plain": [
       "{'banana': 1.0,\n",
       " 'apple': 0.5,\n",
       " 'milk': 0.99,\n",
       " 'tomato': 0.1,\n",
       " 'eggs': 1.0,\n",
       " 'bread': 2.5,\n",
       " 'pepper': 5.0,\n",
       " 'salt': 0.5}"
      ]
     },
     "execution_count": 127,
     "metadata": {},
     "output_type": "execute_result"
    }
   ],
   "source": [
    "shopping_cart_with_prices"
   ]
  },
  {
   "cell_type": "code",
   "execution_count": 128,
   "metadata": {},
   "outputs": [
    {
     "data": {
      "text/plain": [
       "dict"
      ]
     },
     "execution_count": 128,
     "metadata": {},
     "output_type": "execute_result"
    }
   ],
   "source": [
    "type(shopping_cart_with_prices)"
   ]
  },
  {
   "cell_type": "code",
   "execution_count": 129,
   "metadata": {},
   "outputs": [
    {
     "ename": "KeyError",
     "evalue": "0",
     "output_type": "error",
     "traceback": [
      "\u001b[0;31m---------------------------------------------------------------------------\u001b[0m",
      "\u001b[0;31mKeyError\u001b[0m                                  Traceback (most recent call last)",
      "\u001b[0;32m<ipython-input-129-b4b80f76428c>\u001b[0m in \u001b[0;36m<module>\u001b[0;34m\u001b[0m\n\u001b[0;32m----> 1\u001b[0;31m \u001b[0mshopping_cart_with_prices\u001b[0m\u001b[0;34m[\u001b[0m\u001b[0;36m0\u001b[0m\u001b[0;34m]\u001b[0m\u001b[0;34m\u001b[0m\u001b[0;34m\u001b[0m\u001b[0m\n\u001b[0m",
      "\u001b[0;31mKeyError\u001b[0m: 0"
     ]
    }
   ],
   "source": [
    "shopping_cart_with_prices[0]"
   ]
  },
  {
   "cell_type": "code",
   "execution_count": 130,
   "metadata": {},
   "outputs": [
    {
     "data": {
      "text/plain": [
       "1.0"
      ]
     },
     "execution_count": 130,
     "metadata": {},
     "output_type": "execute_result"
    }
   ],
   "source": [
    "shopping_cart_with_prices['banana']"
   ]
  },
  {
   "cell_type": "code",
   "execution_count": 131,
   "metadata": {},
   "outputs": [
    {
     "data": {
      "text/plain": [
       "0.5"
      ]
     },
     "execution_count": 131,
     "metadata": {},
     "output_type": "execute_result"
    }
   ],
   "source": [
    "shopping_cart_with_prices['apple']"
   ]
  },
  {
   "cell_type": "code",
   "execution_count": 132,
   "metadata": {},
   "outputs": [
    {
     "name": "stdout",
     "output_type": "stream",
     "text": [
      "item #0: banana, price: 1.0\n",
      "item #1: apple, price: 0.5\n",
      "item #2: milk, price: 0.99\n",
      "item #3: tomato, price: 0.1\n",
      "item #4: eggs, price: 1.0\n",
      "item #5: bread, price: 2.5\n",
      "item #6: pepper, price: 5.0\n",
      "item #7: salt, price: 0.5\n"
     ]
    }
   ],
   "source": [
    "n = 0\n",
    "for item, price in shopping_cart_with_prices.items():\n",
    "    print('item #' + str(n) + ': ' + item + ', price: ' + str(price))\n",
    "    n = n + 1"
   ]
  },
  {
   "cell_type": "code",
   "execution_count": 133,
   "metadata": {},
   "outputs": [
    {
     "data": {
      "text/plain": [
       "1.5"
      ]
     },
     "execution_count": 133,
     "metadata": {},
     "output_type": "execute_result"
    }
   ],
   "source": [
    "shopping_cart_with_prices['banana'] + shopping_cart_with_prices['apple']"
   ]
  },
  {
   "cell_type": "code",
   "execution_count": 134,
   "metadata": {},
   "outputs": [
    {
     "data": {
      "text/plain": [
       "3.5"
      ]
     },
     "execution_count": 134,
     "metadata": {},
     "output_type": "execute_result"
    }
   ],
   "source": [
    "shopping_cart_with_prices['banana'] + 5 * shopping_cart_with_prices['apple']"
   ]
  },
  {
   "cell_type": "code",
   "execution_count": 135,
   "metadata": {},
   "outputs": [
    {
     "data": {
      "text/plain": [
       "1.75"
      ]
     },
     "execution_count": 135,
     "metadata": {},
     "output_type": "execute_result"
    }
   ],
   "source": [
    "(shopping_cart_with_prices[\"banana\"] + 5 * shopping_cart_with_prices[\"apple\"]) / 2"
   ]
  },
  {
   "cell_type": "code",
   "execution_count": 136,
   "metadata": {},
   "outputs": [
    {
     "name": "stdout",
     "output_type": "stream",
     "text": [
      "1.0\n",
      "1.5\n",
      "2.49\n",
      "2.5900000000000003\n",
      "3.5900000000000003\n",
      "6.09\n",
      "11.09\n",
      "11.59\n",
      "final sum of all groceries: 11.59\n"
     ]
    }
   ],
   "source": [
    "sum_of_groceries = 0\n",
    "for item, price in shopping_cart_with_prices.items():\n",
    "    sum_of_groceries = sum_of_groceries + price\n",
    "    print(sum_of_groceries)\n",
    "\n",
    "print(\"final sum of all groceries: \" + str(sum_of_groceries))"
   ]
  },
  {
   "cell_type": "code",
   "execution_count": 137,
   "metadata": {},
   "outputs": [],
   "source": [
    "money_wallet = 12"
   ]
  },
  {
   "cell_type": "code",
   "execution_count": 138,
   "metadata": {},
   "outputs": [
    {
     "name": "stdout",
     "output_type": "stream",
     "text": [
      "you can afford all the groceries!\n"
     ]
    }
   ],
   "source": [
    "if money_wallet < sum_of_groceries:\n",
    "    print(\"you cannot afford all these groceries!\")\n",
    "elif money_wallet == sum_of_groceries:\n",
    "    print(\"you have exactly enough money!\")\n",
    "else:\n",
    "    print(\"you can afford all the groceries!\")"
   ]
  },
  {
   "cell_type": "code",
   "execution_count": 139,
   "metadata": {},
   "outputs": [],
   "source": [
    "import pandas as pd"
   ]
  },
  {
   "cell_type": "code",
   "execution_count": 140,
   "metadata": {},
   "outputs": [
    {
     "data": {
      "text/html": [
       "<div>\n",
       "<style scoped>\n",
       "    .dataframe tbody tr th:only-of-type {\n",
       "        vertical-align: middle;\n",
       "    }\n",
       "\n",
       "    .dataframe tbody tr th {\n",
       "        vertical-align: top;\n",
       "    }\n",
       "\n",
       "    .dataframe thead th {\n",
       "        text-align: right;\n",
       "    }\n",
       "</style>\n",
       "<table border=\"1\" class=\"dataframe\">\n",
       "  <thead>\n",
       "    <tr style=\"text-align: right;\">\n",
       "      <th></th>\n",
       "      <th>banana</th>\n",
       "      <th>apple</th>\n",
       "      <th>milk</th>\n",
       "      <th>tomato</th>\n",
       "      <th>eggs</th>\n",
       "      <th>bread</th>\n",
       "      <th>pepper</th>\n",
       "      <th>salt</th>\n",
       "    </tr>\n",
       "  </thead>\n",
       "  <tbody>\n",
       "    <tr>\n",
       "      <th>prices</th>\n",
       "      <td>1.0</td>\n",
       "      <td>0.5</td>\n",
       "      <td>0.99</td>\n",
       "      <td>0.1</td>\n",
       "      <td>1.0</td>\n",
       "      <td>2.5</td>\n",
       "      <td>5.0</td>\n",
       "      <td>0.5</td>\n",
       "    </tr>\n",
       "  </tbody>\n",
       "</table>\n",
       "</div>"
      ],
      "text/plain": [
       "        banana  apple  milk  tomato  eggs  bread  pepper  salt\n",
       "prices     1.0    0.5  0.99     0.1   1.0    2.5     5.0   0.5"
      ]
     },
     "execution_count": 140,
     "metadata": {},
     "output_type": "execute_result"
    }
   ],
   "source": [
    "df = pd.DataFrame(shopping_cart_with_prices, index=['prices'])\n",
    "df"
   ]
  },
  {
   "cell_type": "code",
   "execution_count": 141,
   "metadata": {},
   "outputs": [],
   "source": [
    "df.T"
   ]
  },
  {
   "cell_type": "code",
   "execution_count": null,
   "metadata": {},
   "outputs": [],
   "source": [
    "df = df.T"
   ]
  },
  {
   "cell_type": "code",
   "execution_count": 142,
   "metadata": {},
   "outputs": [
    {
     "data": {
      "text/plain": [
       "<matplotlib.axes._subplots.AxesSubplot at 0x7f3d10197470>"
      ]
     },
     "execution_count": 142,
     "metadata": {},
     "output_type": "execute_result"
    },
    {
     "data": {
      "image/png": "[encoded data removed]",
      "text/plain": [
       "<Figure size 432x288 with 1 Axes>"
      ]
     },
     "metadata": {
      "needs_background": "light"
     },
     "output_type": "display_data"
    }
   ],
   "source": [
    "df.plot(kind='bar')"
   ]
  },
  {
   "cell_type": "code",
   "execution_count": 143,
   "metadata": {},
   "outputs": [],
   "source": [
    "def plot_data(shopping_cart):\n",
    "    \"\"\"This function takes a shopping cart dictionary and plots it as bars.\n",
    "    Parameters\n",
    "    ----------\n",
    "    shopping_cart : dict\n",
    "        Shopping items that shoud be provided as a dictionary.    \n",
    "    \"\"\"\n",
    "    df = pd.DataFrame(shopping_cart, index=['prices'])\n",
    "    df = df.T\n",
    "    df.plot(kind=\"bar\")"
   ]
  },
  {
   "cell_type": "code",
   "execution_count": 144,
   "metadata": {},
   "outputs": [
    {
     "data": {
      "image/png": "[encoded data removed]",
      "text/plain": [
       "<Figure size 432x288 with 1 Axes>"
      ]
     },
     "metadata": {
      "needs_background": "light"
     },
     "output_type": "display_data"
    }
   ],
   "source": [
    "plot_data(shopping_cart_with_prices)"
   ]
  },
  {
   "cell_type": "code",
   "execution_count": 145,
   "metadata": {},
   "outputs": [],
   "source": [
    "shopping_cart_unhealthy =  {\"beer\": 30.00,\n",
    "    \"wine\": 55.00,\n",
    "    \"vodka\": 5.99,\n",
    "    \"cigarettes\": 10.00}"
   ]
  },
  {
   "cell_type": "code",
   "execution_count": 146,
   "metadata": {},
   "outputs": [
    {
     "data": {
      "image/png": "[encoded data removed]",
      "text/plain": [
       "<Figure size 432x288 with 1 Axes>"
      ]
     },
     "metadata": {
      "needs_background": "light"
     },
     "output_type": "display_data"
    }
   ],
   "source": [
    "plot_data(shopping_cart_unhealthy)"
   ]
  },
  {
   "cell_type": "code",
   "execution_count": 147,
   "metadata": {},
   "outputs": [],
   "source": [
    "def go_shopping(items, money, calculate_sum=False):\n",
    "    \"\"\"This function provides calculations for a shopping trip and plots individual \n",
    "    item prices. Works only if correct data types are used as inputs.\n",
    "    \n",
    "    Parameters\n",
    "    ----------\n",
    "    items : dict\n",
    "        Shopping items that shoud be provided as a dictionary.\n",
    "    money : float or int\n",
    "        Amount of money available.\n",
    "    calculate_sum : boolean\n",
    "        True if sum of grocery shopping should be calculated, False if not.\n",
    "\n",
    "    \"\"\"\n",
    "\n",
    "    if type(items) is dict and (type(money) is float or type(money) is int):\n",
    "        shopping_cart_with_prices = items\n",
    "        money_wallet = money\n",
    "        sum_of_groceries = 0\n",
    "        if calculate_sum == True:\n",
    "            for item, price in shopping_cart_with_prices.items():\n",
    "                sum_of_groceries = sum_of_groceries + price\n",
    "            if money_wallet < sum_of_groceries:\n",
    "                print(\"you cannot afford all these groceries!\")\n",
    "            elif money_wallet == sum_of_groceries:\n",
    "                print(\"you have exactly enough money!\")\n",
    "            else:\n",
    "                print(\"you can afford all the groceries!\")\n",
    "        else:\n",
    "            sum_of_groceries == \"no sum calculation wanted!\"\n",
    "        plot_data(shopping_cart_with_prices)\n",
    "    else:\n",
    "        print(\"types of input data is wrong!\")\n",
    "        return\n",
    "    return sum_of_groceries"
   ]
  },
  {
   "cell_type": "code",
   "execution_count": 148,
   "metadata": {},
   "outputs": [
    {
     "name": "stdout",
     "output_type": "stream",
     "text": [
      "Help on function go_shopping in module __main__:\n",
      "\n",
      "go_shopping(items, money, calculate_sum=False)\n",
      "    This function provides calculations for a shopping trip and plots individual \n",
      "    item prices. Works only if correct data types are used as inputs.\n",
      "    \n",
      "    Parameters\n",
      "    ----------\n",
      "    items : dict\n",
      "        Shopping items that shoud be provided as a dictionary.\n",
      "    money : float or int\n",
      "        Amount of money available.\n",
      "    calculate_sum : boolean\n",
      "        True if sum of grocery shopping should be calculated, False if not.\n",
      "\n"
     ]
    }
   ],
   "source": [
    "help(go_shopping)"
   ]
  },
  {
   "cell_type": "code",
   "execution_count": 149,
   "metadata": {},
   "outputs": [
    {
     "ename": "TypeError",
     "evalue": "go_shopping() missing 2 required positional arguments: 'items' and 'money'",
     "output_type": "error",
     "traceback": [
      "\u001b[0;31m---------------------------------------------------------------------------\u001b[0m",
      "\u001b[0;31mTypeError\u001b[0m                                 Traceback (most recent call last)",
      "\u001b[0;32m<ipython-input-149-e3534c0c141b>\u001b[0m in \u001b[0;36m<module>\u001b[0;34m\u001b[0m\n\u001b[1;32m      1\u001b[0m \u001b[0;31m# shift plus tab to show help\u001b[0m\u001b[0;34m\u001b[0m\u001b[0;34m\u001b[0m\u001b[0;34m\u001b[0m\u001b[0m\n\u001b[1;32m      2\u001b[0m \u001b[0;34m\u001b[0m\u001b[0m\n\u001b[0;32m----> 3\u001b[0;31m \u001b[0mgo_shopping\u001b[0m\u001b[0;34m(\u001b[0m\u001b[0;34m)\u001b[0m\u001b[0;34m\u001b[0m\u001b[0;34m\u001b[0m\u001b[0m\n\u001b[0m",
      "\u001b[0;31mTypeError\u001b[0m: go_shopping() missing 2 required positional arguments: 'items' and 'money'"
     ]
    }
   ],
   "source": [
    "# shift plus tab to show help\n",
    "\n",
    "go_shopping()"
   ]
  },
  {
   "cell_type": "code",
   "execution_count": 150,
   "metadata": {},
   "outputs": [
    {
     "name": "stdout",
     "output_type": "stream",
     "text": [
      "you can afford all the groceries!\n"
     ]
    },
    {
     "data": {
      "text/plain": [
       "11.59"
      ]
     },
     "execution_count": 150,
     "metadata": {},
     "output_type": "execute_result"
    },
    {
     "data": {
      "image/png": "[encoded data removed]",
      "text/plain": [
       "<Figure size 432x288 with 1 Axes>"
      ]
     },
     "metadata": {
      "needs_background": "light"
     },
     "output_type": "display_data"
    }
   ],
   "source": [
    "go_shopping(shopping_cart_with_prices, money_wallet, calculate_sum=True)"
   ]
  },
  {
   "cell_type": "code",
   "execution_count": 151,
   "metadata": {},
   "outputs": [
    {
     "name": "stdout",
     "output_type": "stream",
     "text": [
      "you can afford all the groceries!\n"
     ]
    },
    {
     "data": {
      "image/png": "[encoded data removed]",
      "text/plain": [
       "<Figure size 432x288 with 1 Axes>"
      ]
     },
     "metadata": {
      "needs_background": "light"
     },
     "output_type": "display_data"
    }
   ],
   "source": [
    "sum_of_shopping_markus = go_shopping(\n",
    "    shopping_cart_with_prices, money_wallet, calculate_sum=True\n",
    ")"
   ]
  },
  {
   "cell_type": "code",
   "execution_count": 152,
   "metadata": {},
   "outputs": [
    {
     "data": {
      "text/plain": [
       "11.59"
      ]
     },
     "execution_count": 152,
     "metadata": {},
     "output_type": "execute_result"
    }
   ],
   "source": [
    "sum_of_shopping_markus"
   ]
  },
  {
   "cell_type": "code",
   "execution_count": 153,
   "metadata": {},
   "outputs": [
    {
     "name": "stdout",
     "output_type": "stream",
     "text": [
      "you cannot afford all these groceries!\n"
     ]
    },
    {
     "data": {
      "image/png": "[encoded data removed]",
      "text/plain": [
       "<Figure size 432x288 with 1 Axes>"
      ]
     },
     "metadata": {
      "needs_background": "light"
     },
     "output_type": "display_data"
    }
   ],
   "source": [
    "sum_of_shopping_hans_dieter = go_shopping(\n",
    "        shopping_cart_unhealthy, 50, calculate_sum=True\n",
    ")"
   ]
  },
  {
   "cell_type": "code",
   "execution_count": 154,
   "metadata": {},
   "outputs": [
    {
     "data": {
      "text/plain": [
       "100.99"
      ]
     },
     "execution_count": 154,
     "metadata": {},
     "output_type": "execute_result"
    }
   ],
   "source": [
    "sum_of_shopping_hans_dieter"
   ]
  },
  {
   "cell_type": "code",
   "execution_count": 155,
   "metadata": {},
   "outputs": [
    {
     "name": "stdout",
     "output_type": "stream",
     "text": [
      "types of input data is wrong!\n"
     ]
    }
   ],
   "source": [
    "sum_of_shopping_tina = go_shopping(\n",
    "    {\n",
    "    \"New Nintendo 3DS\": 130.00,\n",
    "    \"Sony PS4\": 55.00,\n",
    "    \"Microsoft X-Box One\": 100.00\n",
    "}, '50', calculate_sum=False\n",
    ")"
   ]
  },
  {
   "cell_type": "code",
   "execution_count": 156,
   "metadata": {},
   "outputs": [],
   "source": [
    "sum_of_shopping_tina"
   ]
  },
  {
   "cell_type": "code",
   "execution_count": 157,
   "metadata": {},
   "outputs": [
    {
     "name": "stdout",
     "output_type": "stream",
     "text": [
      "you cannot afford all these groceries!\n"
     ]
    },
    {
     "data": {
      "image/png": "[encoded data removed]",
      "text/plain": [
       "<Figure size 432x288 with 1 Axes>"
      ]
     },
     "metadata": {
      "needs_background": "light"
     },
     "output_type": "display_data"
    }
   ],
   "source": [
    "sum_of_shopping_tina = go_shopping(\n",
    "    {\n",
    "    \"New Nintendo 3DS\": 130.00,\n",
    "    \"Sony PS4\": 55.00,\n",
    "    \"Microsoft X-Box One\": 100.00\n",
    "}, 50, calculate_sum=True\n",
    ")"
   ]
  },
  {
   "cell_type": "code",
   "execution_count": 158,
   "metadata": {},
   "outputs": [
    {
     "data": {
      "text/plain": [
       "285.0"
      ]
     },
     "execution_count": 158,
     "metadata": {},
     "output_type": "execute_result"
    }
   ],
   "source": [
    "sum_of_shopping_tina"
   ]
  },
  {
   "cell_type": "code",
   "execution_count": null,
   "metadata": {},
   "outputs": [],
   "source": []
  },
  {
   "cell_type": "code",
   "execution_count": null,
   "metadata": {},
   "outputs": [],
   "source": []
  },
  {
   "cell_type": "code",
   "execution_count": null,
   "metadata": {},
   "outputs": [],
   "source": []
  },
  {
   "cell_type": "code",
   "execution_count": null,
   "metadata": {},
   "outputs": [],
   "source": []
  },
  {
   "cell_type": "code",
   "execution_count": null,
   "metadata": {},
   "outputs": [],
   "source": []
  },
  {
   "cell_type": "code",
   "execution_count": null,
   "metadata": {},
   "outputs": [],
   "source": []
  },
  {
   "cell_type": "code",
   "execution_count": null,
   "metadata": {},
   "outputs": [],
   "source": []
  },
  {
   "cell_type": "code",
   "execution_count": null,
   "metadata": {},
   "outputs": [],
   "source": []
  },
  {
   "cell_type": "code",
   "execution_count": null,
   "metadata": {},
   "outputs": [],
   "source": []
  },
  {
   "cell_type": "code",
   "execution_count": null,
   "metadata": {},
   "outputs": [],
   "source": []
  },
  {
   "cell_type": "code",
   "execution_count": null,
   "metadata": {},
   "outputs": [],
   "source": []
  },
  {
   "cell_type": "code",
   "execution_count": null,
   "metadata": {},
   "outputs": [],
   "source": []
  },
  {
   "cell_type": "code",
   "execution_count": null,
   "metadata": {},
   "outputs": [],
   "source": []
  }
 ],
 "metadata": {
  "kernelspec": {
   "display_name": "Python 3",
   "language": "python",
   "name": "python3"
  },
  "language_info": {
   "codemirror_mode": {
    "name": "ipython",
    "version": 3
   },
   "file_extension": ".py",
   "mimetype": "text/x-python",
   "name": "python",
   "nbconvert_exporter": "python",
   "pygments_lexer": "ipython3",
   "version": "3.6.7"
  },
  "toc-autonumbering": true,
  "toc-showmarkdowntxt": true
 },
 "nbformat": 4,
 "nbformat_minor": 2
}
