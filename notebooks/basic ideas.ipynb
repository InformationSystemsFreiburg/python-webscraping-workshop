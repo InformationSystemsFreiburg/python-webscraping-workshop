{
 "cells": [
  {
   "cell_type": "markdown",
   "metadata": {},
   "source": [
    "# Web-Scraping with Python"
   ]
  },
  {
   "cell_type": "markdown",
   "metadata": {},
   "source": [
    "## From 0 to Data Scientist with Python - Reading and Watching List\n",
    "This list should be followed step by step. There are a few overlaps between the resources, but overall the next step most often requires knowledge of the previous step.\n",
    "\n",
    "**If you do not have any prior programming experience**\n",
    "0. Automate the boring stuff with python\n",
    "  * https://automatetheboringstuff.com/\n",
    "\n",
    "**If you have prior programming experience**\n",
    "1. The Quick Python Book\n",
    "  * https://www.manning.com/books/the-quick-python-book-third-edition\n",
    "2. Intro to Numerical Computing with NumPy (Beginner)\n",
    "  * https://www.youtube.com/watch?v=V0D2mhVt7NE\n",
    "3. Pandas for Data Analysis\n",
    "  * https://www.youtube.com/watch?v=oGzU688xCUs\n",
    "6. Web Scraping with BeautifulSoup and Requests\n",
    "  * https://www.youtube.com/watch?v=ng2o98k983k\n",
    "4. Data Visualization and Exploration with Python\n",
    "  * https://www.youtube.com/watch?v=KvZ2KSxlWBY\n",
    "5. Hands-On Machine Learning with Scikit-Learn and TensorFlow\n",
    "  * Read until \"Part II. Neural Networks and Deep Learning\"\n",
    "  * http://shop.oreilly.com/product/0636920052289.do\n",
    "6. Deep Learning with Python, TensorFlow, and Keras tutorial - Playlist\n",
    "  * https://www.youtube.com/watch?v=wQ8BIBpya2k&list=PLQVvvaa0QuDfhTox0AjmQ6tvTgMBZBEXN\n",
    "7. But what is a Deep Neural Network?\n",
    "  * https://www.youtube.com/watch?v=aircAruvnKk\n",
    "  * https://www.youtube.com/watch?v=IHZwWFHWa-w\n",
    "8. Deep Learning with Python\n",
    "  * https://www.manning.com/books/deep-learning-with-python\n",
    "9. Hands-On Machine Learning with Scikit-Learn and TensorFlow\n",
    "  * Read from \"Part II. Neural Networks and Deep Learning\"\n",
    "  * http://shop.oreilly.com/product/0636920052289.do\n",
    "  \n",
    "**Additional suggested material**\n",
    "* Jupyterlab as a development environment - Getting Started with JupyterLab (Beginner Level)\n",
    "  * https://www.youtube.com/watch?v=Gzun8PpyBCo\n",
    "* Docker for Data Scientists\n",
    "  * https://towardsdatascience.com/docker-for-data-scientists-5732501f0ba4\n",
    "* Stanford Lecture Collection | Convolutional Neural Networks for Visual Recognition (Spring 2017) \n",
    "  * https://www.youtube.com/watch?v=vT1JzLTH4G4&list=PL3FW7Lu3i5JvHM8ljYj-zLfQRF3EO8sYv"
   ]
  },
  {
   "cell_type": "markdown",
   "metadata": {},
   "source": []
  },
  {
   "cell_type": "markdown",
   "metadata": {},
   "source": []
  },
  {
   "cell_type": "markdown",
   "metadata": {},
   "source": []
  },
  {
   "cell_type": "markdown",
   "metadata": {},
   "source": []
  },
  {
   "cell_type": "markdown",
   "metadata": {},
   "source": []
  },
  {
   "cell_type": "markdown",
   "metadata": {},
   "source": []
  }
 ],
 "metadata": {
  "kernelspec": {
   "display_name": "Python 3",
   "language": "python",
   "name": "python3"
  },
  "language_info": {
   "codemirror_mode": {
    "name": "ipython",
    "version": 3
   },
   "file_extension": ".py",
   "mimetype": "text/x-python",
   "name": "python",
   "nbconvert_exporter": "python",
   "pygments_lexer": "ipython3",
   "version": "3.6.7"
  }
 },
 "nbformat": 4,
 "nbformat_minor": 2
}
