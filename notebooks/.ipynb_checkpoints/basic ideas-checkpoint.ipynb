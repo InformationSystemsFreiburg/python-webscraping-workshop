{
 "cells": [
  {
   "cell_type": "markdown",
   "metadata": {},
   "source": [
    "# Web-Scraping with Python"
   ]
  },
  {
   "cell_type": "markdown",
   "metadata": {},
   "source": [
    "## From 0 to Data Scientist with Python - Reading and Watching List\n",
    "This list should be followed step by step. There are a few overlaps between the resources, but overall the next step most often requires knowledge of the previous step.\n",
    "\n",
    "**If you do not have any prior programming experience**\n",
    "0. Automate the boring stuff with python\n",
    "  * https://automatetheboringstuff.com/\n",
    "\n",
    "**If you have prior programming experience**\n",
    "1. The Quick Python Book\n",
    "  * https://www.manning.com/books/the-quick-python-book-third-edition\n",
    "2. Intro to Numerical Computing with NumPy (Beginner)\n",
    "  * https://www.youtube.com/watch?v=V0D2mhVt7NE\n",
    "3. Pandas for Data Analysis\n",
    "  * https://www.youtube.com/watch?v=oGzU688xCUs\n",
    "6. Web Scraping with BeautifulSoup and Requests\n",
    "  * https://www.youtube.com/watch?v=ng2o98k983k\n",
    "4. Data Visualization and Exploration with Python\n",
    "  * https://www.youtube.com/watch?v=KvZ2KSxlWBY\n",
    "5. Hands-On Machine Learning with Scikit-Learn and TensorFlow\n",
    "  * Read until \"Part II. Neural Networks and Deep Learning\"\n",
    "  * http://shop.oreilly.com/product/0636920052289.do\n",
    "6. Deep Learning with Python, TensorFlow, and Keras tutorial - Playlist\n",
    "  * https://www.youtube.com/watch?v=wQ8BIBpya2k&list=PLQVvvaa0QuDfhTox0AjmQ6tvTgMBZBEXN\n",
    "7. But what is a Deep Neural Network?\n",
    "  * https://www.youtube.com/watch?v=aircAruvnKk\n",
    "  * https://www.youtube.com/watch?v=IHZwWFHWa-w\n",
    "8. Deep Learning with Python\n",
    "  * https://www.manning.com/books/deep-learning-with-python\n",
    "9. Hands-On Machine Learning with Scikit-Learn and TensorFlow\n",
    "  * Read from \"Part II. Neural Networks and Deep Learning\"\n",
    "  * http://shop.oreilly.com/product/0636920052289.do\n",
    "  \n",
    "**Additional suggested material**\n",
    "* Jupyterlab as a development environment - Getting Started with JupyterLab (Beginner Level)\n",
    "  * https://www.youtube.com/watch?v=Gzun8PpyBCo\n",
    "* Docker for Data Scientists\n",
    "  * https://towardsdatascience.com/docker-for-data-scientists-5732501f0ba4\n",
    "* Stanford Lecture Collection | Convolutional Neural Networks for Visual Recognition (Spring 2017) \n",
    "  * https://www.youtube.com/watch?v=vT1JzLTH4G4&list=PL3FW7Lu3i5JvHM8ljYj-zLfQRF3EO8sYv"
   ]
  },
  {
   "cell_type": "markdown",
   "metadata": {},
   "source": [
    "# Programming in Python"
   ]
  },
  {
   "cell_type": "markdown",
   "metadata": {},
   "source": [
    "Consider the following example: you are going grocery shopping..."
   ]
  },
  {
   "cell_type": "markdown",
   "metadata": {},
   "source": [
    "#### 1. **assign variables, print function**"
   ]
  },
  {
   "cell_type": "code",
   "execution_count": 1,
   "metadata": {},
   "outputs": [],
   "source": [
    "first_item = 'banana'"
   ]
  },
  {
   "cell_type": "code",
   "execution_count": 2,
   "metadata": {},
   "outputs": [
    {
     "name": "stdout",
     "output_type": "stream",
     "text": [
      "banana\n"
     ]
    }
   ],
   "source": [
    "print(first_item)"
   ]
  },
  {
   "cell_type": "code",
   "execution_count": 3,
   "metadata": {},
   "outputs": [
    {
     "data": {
      "text/plain": [
       "str"
      ]
     },
     "execution_count": 3,
     "metadata": {},
     "output_type": "execute_result"
    }
   ],
   "source": [
    "type(first_item)"
   ]
  },
  {
   "cell_type": "markdown",
   "metadata": {},
   "source": [
    ".. want to check out prices for apples"
   ]
  },
  {
   "cell_type": "code",
   "execution_count": 4,
   "metadata": {},
   "outputs": [],
   "source": [
    "second_item = 'apple'"
   ]
  },
  {
   "cell_type": "code",
   "execution_count": 5,
   "metadata": {},
   "outputs": [],
   "source": [
    "shopping_cart = [first_item, second_item]"
   ]
  },
  {
   "cell_type": "code",
   "execution_count": 6,
   "metadata": {},
   "outputs": [
    {
     "data": {
      "text/plain": [
       "['banana', 'apple']"
      ]
     },
     "execution_count": 6,
     "metadata": {},
     "output_type": "execute_result"
    }
   ],
   "source": [
    "shopping_cart"
   ]
  },
  {
   "cell_type": "code",
   "execution_count": 7,
   "metadata": {},
   "outputs": [
    {
     "data": {
      "text/plain": [
       "list"
      ]
     },
     "execution_count": 7,
     "metadata": {},
     "output_type": "execute_result"
    }
   ],
   "source": [
    "type(shopping_cart)"
   ]
  },
  {
   "cell_type": "code",
   "execution_count": 8,
   "metadata": {},
   "outputs": [],
   "source": [
    "third_item, fourth_item = 'milk', 'tomato'"
   ]
  },
  {
   "cell_type": "code",
   "execution_count": 9,
   "metadata": {},
   "outputs": [
    {
     "name": "stdout",
     "output_type": "stream",
     "text": [
      "['banana', 'apple', 'milk']\n"
     ]
    }
   ],
   "source": [
    "shopping_cart.append(third_item)\n",
    "print(shopping_cart)"
   ]
  },
  {
   "cell_type": "code",
   "execution_count": 10,
   "metadata": {},
   "outputs": [
    {
     "name": "stdout",
     "output_type": "stream",
     "text": [
      "['banana', 'apple', 'milk', 'tomato']\n"
     ]
    }
   ],
   "source": [
    "shopping_cart.append(fourth_item)\n",
    "print(shopping_cart)"
   ]
  },
  {
   "cell_type": "code",
   "execution_count": 11,
   "metadata": {},
   "outputs": [
    {
     "data": {
      "text/plain": [
       "'banana'"
      ]
     },
     "execution_count": 11,
     "metadata": {},
     "output_type": "execute_result"
    }
   ],
   "source": [
    "shopping_cart[0]"
   ]
  },
  {
   "cell_type": "code",
   "execution_count": 12,
   "metadata": {},
   "outputs": [
    {
     "data": {
      "text/plain": [
       "'apple'"
      ]
     },
     "execution_count": 12,
     "metadata": {},
     "output_type": "execute_result"
    }
   ],
   "source": [
    "shopping_cart[1]"
   ]
  },
  {
   "cell_type": "code",
   "execution_count": 13,
   "metadata": {},
   "outputs": [
    {
     "data": {
      "text/plain": [
       "'tomato'"
      ]
     },
     "execution_count": 13,
     "metadata": {},
     "output_type": "execute_result"
    }
   ],
   "source": [
    "shopping_cart[3]"
   ]
  },
  {
   "cell_type": "code",
   "execution_count": 14,
   "metadata": {},
   "outputs": [
    {
     "data": {
      "text/plain": [
       "['banana', 'apple', 'milk']"
      ]
     },
     "execution_count": 14,
     "metadata": {},
     "output_type": "execute_result"
    }
   ],
   "source": [
    "shopping_cart[0:3]"
   ]
  },
  {
   "cell_type": "code",
   "execution_count": 15,
   "metadata": {},
   "outputs": [
    {
     "data": {
      "text/plain": [
       "'tomato'"
      ]
     },
     "execution_count": 15,
     "metadata": {},
     "output_type": "execute_result"
    }
   ],
   "source": [
    "shopping_cart[-1]"
   ]
  },
  {
   "cell_type": "code",
   "execution_count": 16,
   "metadata": {},
   "outputs": [],
   "source": [
    "del shopping_cart[-1]"
   ]
  },
  {
   "cell_type": "code",
   "execution_count": 17,
   "metadata": {},
   "outputs": [
    {
     "ename": "IndexError",
     "evalue": "list index out of range",
     "output_type": "error",
     "traceback": [
      "\u001b[0;31m---------------------------------------------------------------------------\u001b[0m",
      "\u001b[0;31mIndexError\u001b[0m                                Traceback (most recent call last)",
      "\u001b[0;32m<ipython-input-17-1aafdb125df3>\u001b[0m in \u001b[0;36m<module>\u001b[0;34m\u001b[0m\n\u001b[0;32m----> 1\u001b[0;31m \u001b[0mshopping_cart\u001b[0m\u001b[0;34m[\u001b[0m\u001b[0;36m3\u001b[0m\u001b[0;34m]\u001b[0m\u001b[0;34m\u001b[0m\u001b[0;34m\u001b[0m\u001b[0m\n\u001b[0m",
      "\u001b[0;31mIndexError\u001b[0m: list index out of range"
     ]
    }
   ],
   "source": [
    "shopping_cart[3]"
   ]
  },
  {
   "cell_type": "code",
   "execution_count": 18,
   "metadata": {},
   "outputs": [
    {
     "data": {
      "text/plain": [
       "['banana', 'apple', 'milk']"
      ]
     },
     "execution_count": 18,
     "metadata": {},
     "output_type": "execute_result"
    }
   ],
   "source": [
    "shopping_cart"
   ]
  },
  {
   "cell_type": "code",
   "execution_count": 19,
   "metadata": {},
   "outputs": [],
   "source": [
    "more_stuff = ['eggs', 'bread', 'pepper', 'salt']"
   ]
  },
  {
   "cell_type": "code",
   "execution_count": 20,
   "metadata": {},
   "outputs": [],
   "source": [
    "shopping_cart.extend(more_stuff)"
   ]
  },
  {
   "cell_type": "code",
   "execution_count": 21,
   "metadata": {},
   "outputs": [
    {
     "data": {
      "text/plain": [
       "['banana', 'apple', 'milk', 'eggs', 'bread', 'pepper', 'salt']"
      ]
     },
     "execution_count": 21,
     "metadata": {},
     "output_type": "execute_result"
    }
   ],
   "source": [
    "shopping_cart"
   ]
  },
  {
   "cell_type": "code",
   "execution_count": 46,
   "metadata": {},
   "outputs": [
    {
     "data": {
      "text/plain": [
       "7"
      ]
     },
     "execution_count": 46,
     "metadata": {},
     "output_type": "execute_result"
    }
   ],
   "source": [
    "len(shopping_cart)"
   ]
  },
  {
   "cell_type": "code",
   "execution_count": 22,
   "metadata": {},
   "outputs": [
    {
     "name": "stdout",
     "output_type": "stream",
     "text": [
      "0: banana\n",
      "1: apple\n",
      "2: milk\n",
      "3: eggs\n",
      "4: bread\n",
      "5: pepper\n",
      "6: salt\n"
     ]
    }
   ],
   "source": [
    "n = 0 \n",
    "for item in shopping_cart:\n",
    "    print(str(n) + ': ' + item)\n",
    "    n = n + 1"
   ]
  },
  {
   "cell_type": "code",
   "execution_count": 23,
   "metadata": {},
   "outputs": [],
   "source": [
    "shopping_cart_singles = {\n",
    "    \"apple\",\n",
    "    \"apple\",\n",
    "    \"apple\",\n",
    "    \"banana\",\n",
    "    \"banana\",\n",
    "    \"banana\",\n",
    "    \"eggs\",\n",
    "    \"bread\",\n",
    "    \"pepper\",\n",
    "    \"salt\",\n",
    "}"
   ]
  },
  {
   "cell_type": "code",
   "execution_count": 24,
   "metadata": {},
   "outputs": [
    {
     "data": {
      "text/plain": [
       "{'apple', 'banana', 'bread', 'eggs', 'pepper', 'salt'}"
      ]
     },
     "execution_count": 24,
     "metadata": {},
     "output_type": "execute_result"
    }
   ],
   "source": [
    "shopping_cart_singles"
   ]
  },
  {
   "cell_type": "code",
   "execution_count": 25,
   "metadata": {},
   "outputs": [
    {
     "data": {
      "text/plain": [
       "set"
      ]
     },
     "execution_count": 25,
     "metadata": {},
     "output_type": "execute_result"
    }
   ],
   "source": [
    "type(shopping_cart_singles)"
   ]
  },
  {
   "cell_type": "code",
   "execution_count": 26,
   "metadata": {},
   "outputs": [],
   "source": [
    "shopping_cart_with_prices = {\n",
    "    \"banana\": 1.00,\n",
    "    \"apple\": 0.50,\n",
    "    \"milk\": 0.99,\n",
    "    \"tomato\": 0.10,\n",
    "    \"eggs\": 1.00,\n",
    "    \"bread\": 2.5,\n",
    "    \"pepper\": 5.00,\n",
    "    \"salt\": 0.50,\n",
    "}"
   ]
  },
  {
   "cell_type": "code",
   "execution_count": 27,
   "metadata": {},
   "outputs": [
    {
     "data": {
      "text/plain": [
       "{'banana': 1.0,\n",
       " 'apple': 0.5,\n",
       " 'milk': 0.99,\n",
       " 'tomato': 0.1,\n",
       " 'eggs': 1.0,\n",
       " 'bread': 2.5,\n",
       " 'pepper': 5.0,\n",
       " 'salt': 0.5}"
      ]
     },
     "execution_count": 27,
     "metadata": {},
     "output_type": "execute_result"
    }
   ],
   "source": [
    "shopping_cart_with_prices"
   ]
  },
  {
   "cell_type": "code",
   "execution_count": 28,
   "metadata": {},
   "outputs": [
    {
     "data": {
      "text/plain": [
       "dict"
      ]
     },
     "execution_count": 28,
     "metadata": {},
     "output_type": "execute_result"
    }
   ],
   "source": [
    "type(shopping_cart_with_prices)"
   ]
  },
  {
   "cell_type": "code",
   "execution_count": 29,
   "metadata": {},
   "outputs": [
    {
     "ename": "KeyError",
     "evalue": "0",
     "output_type": "error",
     "traceback": [
      "\u001b[0;31m---------------------------------------------------------------------------\u001b[0m",
      "\u001b[0;31mKeyError\u001b[0m                                  Traceback (most recent call last)",
      "\u001b[0;32m<ipython-input-29-b4b80f76428c>\u001b[0m in \u001b[0;36m<module>\u001b[0;34m\u001b[0m\n\u001b[0;32m----> 1\u001b[0;31m \u001b[0mshopping_cart_with_prices\u001b[0m\u001b[0;34m[\u001b[0m\u001b[0;36m0\u001b[0m\u001b[0;34m]\u001b[0m\u001b[0;34m\u001b[0m\u001b[0;34m\u001b[0m\u001b[0m\n\u001b[0m",
      "\u001b[0;31mKeyError\u001b[0m: 0"
     ]
    }
   ],
   "source": [
    "shopping_cart_with_prices[0]"
   ]
  },
  {
   "cell_type": "code",
   "execution_count": 30,
   "metadata": {},
   "outputs": [
    {
     "data": {
      "text/plain": [
       "1.0"
      ]
     },
     "execution_count": 30,
     "metadata": {},
     "output_type": "execute_result"
    }
   ],
   "source": [
    "shopping_cart_with_prices['banana']"
   ]
  },
  {
   "cell_type": "code",
   "execution_count": 31,
   "metadata": {},
   "outputs": [
    {
     "data": {
      "text/plain": [
       "0.5"
      ]
     },
     "execution_count": 31,
     "metadata": {},
     "output_type": "execute_result"
    }
   ],
   "source": [
    "shopping_cart_with_prices['apple']"
   ]
  },
  {
   "cell_type": "code",
   "execution_count": 32,
   "metadata": {},
   "outputs": [
    {
     "name": "stdout",
     "output_type": "stream",
     "text": [
      "item #0: banana, price: 1.0\n",
      "item #1: apple, price: 0.5\n",
      "item #2: milk, price: 0.99\n",
      "item #3: tomato, price: 0.1\n",
      "item #4: eggs, price: 1.0\n",
      "item #5: bread, price: 2.5\n",
      "item #6: pepper, price: 5.0\n",
      "item #7: salt, price: 0.5\n"
     ]
    }
   ],
   "source": [
    "n = 0\n",
    "for item, price in shopping_cart_with_prices.items():\n",
    "    print('item #' + str(n) + ': ' + item + ', price: ' + str(price))\n",
    "    n = n + 1"
   ]
  },
  {
   "cell_type": "code",
   "execution_count": 33,
   "metadata": {},
   "outputs": [
    {
     "data": {
      "text/plain": [
       "1.5"
      ]
     },
     "execution_count": 33,
     "metadata": {},
     "output_type": "execute_result"
    }
   ],
   "source": [
    "shopping_cart_with_prices['banana'] + shopping_cart_with_prices['apple']"
   ]
  },
  {
   "cell_type": "code",
   "execution_count": 34,
   "metadata": {},
   "outputs": [
    {
     "data": {
      "text/plain": [
       "3.5"
      ]
     },
     "execution_count": 34,
     "metadata": {},
     "output_type": "execute_result"
    }
   ],
   "source": [
    "shopping_cart_with_prices['banana'] + 5 * shopping_cart_with_prices['apple']"
   ]
  },
  {
   "cell_type": "code",
   "execution_count": 35,
   "metadata": {},
   "outputs": [
    {
     "data": {
      "text/plain": [
       "1.75"
      ]
     },
     "execution_count": 35,
     "metadata": {},
     "output_type": "execute_result"
    }
   ],
   "source": [
    "(shopping_cart_with_prices[\"banana\"] + 5 * shopping_cart_with_prices[\"apple\"]) / 2"
   ]
  },
  {
   "cell_type": "code",
   "execution_count": 36,
   "metadata": {},
   "outputs": [
    {
     "name": "stdout",
     "output_type": "stream",
     "text": [
      "1.0\n",
      "1.5\n",
      "2.49\n",
      "2.5900000000000003\n",
      "3.5900000000000003\n",
      "6.09\n",
      "11.09\n",
      "11.59\n",
      "final sum of all groceries: 11.59\n"
     ]
    }
   ],
   "source": [
    "sum_of_groceries = 0\n",
    "for item, price in shopping_cart_with_prices.items():\n",
    "    sum_of_groceries = sum_of_groceries + price\n",
    "    print(sum_of_groceries)\n",
    "\n",
    "print(\"final sum of all groceries: \" + str(sum_of_groceries))"
   ]
  },
  {
   "cell_type": "code",
   "execution_count": 37,
   "metadata": {},
   "outputs": [],
   "source": [
    "money_wallet = 12"
   ]
  },
  {
   "cell_type": "code",
   "execution_count": 38,
   "metadata": {},
   "outputs": [
    {
     "name": "stdout",
     "output_type": "stream",
     "text": [
      "you can afford all the groceries!\n"
     ]
    }
   ],
   "source": [
    "if money_wallet < sum_of_groceries:\n",
    "    print(\"you cannot afford all these groceries!\")\n",
    "elif money_wallet == sum_of_groceries:\n",
    "    print(\"you have exactly enough money!\")\n",
    "else:\n",
    "    print(\"you can afford all the groceries!\")"
   ]
  },
  {
   "cell_type": "code",
   "execution_count": 84,
   "metadata": {},
   "outputs": [],
   "source": [
    "def go_shopping(items, money, calculate_sum=False):\n",
    "    \"\"\"This function provides calculations for a shopping trip. Works only if \n",
    "    correct data types are used as inputs.\n",
    "    \n",
    "    Parameters\n",
    "    ----------\n",
    "    items : dict\n",
    "        Shopping items that shoud be provided as a dictionary.\n",
    "    money : float or int\n",
    "        Amount of money available.\n",
    "    calculate_sum : boolean\n",
    "        True if sum of grocery shopping should be calculated, False if not.\n",
    "\n",
    "    \"\"\"\n",
    "\n",
    "    if type(items) is dict and (type(money) is float or type(money) is int):\n",
    "        shopping_cart_with_prices = items\n",
    "        money_wallet = money\n",
    "        sum_of_groceries = 0\n",
    "        if calculate_sum == True:\n",
    "            for item, price in shopping_cart_with_prices.items():\n",
    "                sum_of_groceries = sum_of_groceries + price\n",
    "            if money_wallet < sum_of_groceries:\n",
    "                print(\"you cannot afford all these groceries!\")\n",
    "            elif money_wallet == sum_of_groceries:\n",
    "                print(\"you have exactly enough money!\")\n",
    "            else:\n",
    "                print(\"you can afford all the groceries!\")\n",
    "        else:\n",
    "            sum_of_groceries == \"no sum calculation wanted!\"\n",
    "    else:\n",
    "        print(\"types of input data is wrong!\")\n",
    "        return\n",
    "    return sum_of_groceries"
   ]
  },
  {
   "cell_type": "code",
   "execution_count": 98,
   "metadata": {},
   "outputs": [
    {
     "name": "stdout",
     "output_type": "stream",
     "text": [
      "Help on function go_shopping in module __main__:\n",
      "\n",
      "go_shopping(items, money, calculate_sum=False)\n",
      "    This function provides calculations for a shopping trip. Works only if \n",
      "    correct data types are used as inputs.as inputs.\n",
      "    \n",
      "    Parameters\n",
      "    ----------\n",
      "    items : dict\n",
      "        Shopping items that shoud be provided as a dictionary.\n",
      "    money : float or int\n",
      "        Amount of money available.\n",
      "    calculate_sum : boolean\n",
      "        True if sum of grocery shopping should be calculated, False if not.\n",
      "\n"
     ]
    }
   ],
   "source": [
    "help(go_shopping)"
   ]
  },
  {
   "cell_type": "code",
   "execution_count": 99,
   "metadata": {},
   "outputs": [
    {
     "ename": "TypeError",
     "evalue": "go_shopping() missing 2 required positional arguments: 'items' and 'money'",
     "output_type": "error",
     "traceback": [
      "\u001b[0;31m---------------------------------------------------------------------------\u001b[0m",
      "\u001b[0;31mTypeError\u001b[0m                                 Traceback (most recent call last)",
      "\u001b[0;32m<ipython-input-99-e3534c0c141b>\u001b[0m in \u001b[0;36m<module>\u001b[0;34m\u001b[0m\n\u001b[1;32m      1\u001b[0m \u001b[0;31m# shift plus tab to show help\u001b[0m\u001b[0;34m\u001b[0m\u001b[0;34m\u001b[0m\u001b[0;34m\u001b[0m\u001b[0m\n\u001b[1;32m      2\u001b[0m \u001b[0;34m\u001b[0m\u001b[0m\n\u001b[0;32m----> 3\u001b[0;31m \u001b[0mgo_shopping\u001b[0m\u001b[0;34m(\u001b[0m\u001b[0;34m)\u001b[0m\u001b[0;34m\u001b[0m\u001b[0;34m\u001b[0m\u001b[0m\n\u001b[0m",
      "\u001b[0;31mTypeError\u001b[0m: go_shopping() missing 2 required positional arguments: 'items' and 'money'"
     ]
    }
   ],
   "source": [
    "# shift plus tab to show help\n",
    "\n",
    "go_shopping()"
   ]
  },
  {
   "cell_type": "code",
   "execution_count": 85,
   "metadata": {},
   "outputs": [
    {
     "name": "stdout",
     "output_type": "stream",
     "text": [
      "you can afford all the groceries!\n"
     ]
    },
    {
     "data": {
      "text/plain": [
       "11.59"
      ]
     },
     "execution_count": 85,
     "metadata": {},
     "output_type": "execute_result"
    }
   ],
   "source": [
    "go_shopping(shopping_cart_with_prices, money_wallet, calculate_sum=True)"
   ]
  },
  {
   "cell_type": "code",
   "execution_count": 86,
   "metadata": {},
   "outputs": [
    {
     "name": "stdout",
     "output_type": "stream",
     "text": [
      "you can afford all the groceries!\n"
     ]
    }
   ],
   "source": [
    "sum_of_shopping_markus = go_shopping(\n",
    "    shopping_cart_with_prices, money_wallet, calculate_sum=True\n",
    ")"
   ]
  },
  {
   "cell_type": "code",
   "execution_count": 87,
   "metadata": {},
   "outputs": [
    {
     "data": {
      "text/plain": [
       "11.59"
      ]
     },
     "execution_count": 87,
     "metadata": {},
     "output_type": "execute_result"
    }
   ],
   "source": [
    "sum_of_shopping_markus"
   ]
  },
  {
   "cell_type": "code",
   "execution_count": 88,
   "metadata": {},
   "outputs": [
    {
     "name": "stdout",
     "output_type": "stream",
     "text": [
      "you cannot afford all these groceries!\n"
     ]
    }
   ],
   "source": [
    "sum_of_shopping_hans_dieter = go_shopping(\n",
    "    {\n",
    "    \"beer\": 30.00,\n",
    "    \"wine\": 55.00,\n",
    "    \"vodka\": 5.99,\n",
    "    \"cigarettes\": 10.00\n",
    "}, 50, calculate_sum=True\n",
    ")"
   ]
  },
  {
   "cell_type": "code",
   "execution_count": 89,
   "metadata": {},
   "outputs": [
    {
     "data": {
      "text/plain": [
       "100.99"
      ]
     },
     "execution_count": 89,
     "metadata": {},
     "output_type": "execute_result"
    }
   ],
   "source": [
    "sum_of_shopping_hans_dieter"
   ]
  },
  {
   "cell_type": "code",
   "execution_count": 94,
   "metadata": {},
   "outputs": [
    {
     "name": "stdout",
     "output_type": "stream",
     "text": [
      "types of input data is wrong!\n"
     ]
    }
   ],
   "source": [
    "sum_of_shopping_tina = go_shopping(\n",
    "    {\n",
    "    \"beer\": 30.00,\n",
    "    \"wine\": 55.00,\n",
    "    \"vodka\": 5.99,\n",
    "    \"cigarettes\": 10.00\n",
    "}, '50', calculate_sum=False\n",
    ")"
   ]
  },
  {
   "cell_type": "code",
   "execution_count": 95,
   "metadata": {},
   "outputs": [],
   "source": [
    "sum_of_shopping_tina"
   ]
  },
  {
   "cell_type": "code",
   "execution_count": 96,
   "metadata": {},
   "outputs": [],
   "source": [
    "sum_of_shopping_tina = go_shopping(\n",
    "    {\n",
    "    \"beer\": 30.00,\n",
    "    \"wine\": 55.00,\n",
    "    \"vodka\": 5.99,\n",
    "    \"cigarettes\": 10.00\n",
    "}, 50, calculate_sum=False\n",
    ")"
   ]
  },
  {
   "cell_type": "code",
   "execution_count": 97,
   "metadata": {},
   "outputs": [
    {
     "data": {
      "text/plain": [
       "0"
      ]
     },
     "execution_count": 97,
     "metadata": {},
     "output_type": "execute_result"
    }
   ],
   "source": [
    "sum_of_shopping_tina"
   ]
  },
  {
   "cell_type": "markdown",
   "metadata": {},
   "source": [
    "\n",
    "#### 2.  **math, order of operations**"
   ]
  },
  {
   "cell_type": "code",
   "execution_count": 21,
   "metadata": {},
   "outputs": [
    {
     "data": {
      "text/plain": [
       "6.0"
      ]
     },
     "execution_count": 21,
     "metadata": {},
     "output_type": "execute_result"
    }
   ],
   "source": [
    "banana + 2 * apple"
   ]
  },
  {
   "cell_type": "markdown",
   "metadata": {},
   "source": [
    "#### 3.  **list operations**"
   ]
  },
  {
   "cell_type": "markdown",
   "metadata": {},
   "source": [
    "put apples and bananas in your shopping cart"
   ]
  },
  {
   "cell_type": "code",
   "execution_count": null,
   "metadata": {},
   "outputs": [],
   "source": []
  },
  {
   "cell_type": "code",
   "execution_count": null,
   "metadata": {},
   "outputs": [],
   "source": []
  },
  {
   "cell_type": "code",
   "execution_count": null,
   "metadata": {},
   "outputs": [],
   "source": []
  },
  {
   "cell_type": "code",
   "execution_count": null,
   "metadata": {},
   "outputs": [],
   "source": []
  },
  {
   "cell_type": "code",
   "execution_count": null,
   "metadata": {},
   "outputs": [],
   "source": []
  },
  {
   "cell_type": "code",
   "execution_count": null,
   "metadata": {},
   "outputs": [],
   "source": []
  },
  {
   "cell_type": "code",
   "execution_count": null,
   "metadata": {},
   "outputs": [],
   "source": []
  },
  {
   "cell_type": "code",
   "execution_count": null,
   "metadata": {},
   "outputs": [],
   "source": []
  },
  {
   "cell_type": "code",
   "execution_count": null,
   "metadata": {},
   "outputs": [],
   "source": []
  },
  {
   "cell_type": "code",
   "execution_count": null,
   "metadata": {},
   "outputs": [],
   "source": []
  },
  {
   "cell_type": "code",
   "execution_count": null,
   "metadata": {},
   "outputs": [],
   "source": []
  },
  {
   "cell_type": "code",
   "execution_count": null,
   "metadata": {},
   "outputs": [],
   "source": []
  },
  {
   "cell_type": "code",
   "execution_count": null,
   "metadata": {},
   "outputs": [],
   "source": []
  }
 ],
 "metadata": {
  "kernelspec": {
   "display_name": "Python 3",
   "language": "python",
   "name": "python3"
  },
  "language_info": {
   "codemirror_mode": {
    "name": "ipython",
    "version": 3
   },
   "file_extension": ".py",
   "mimetype": "text/x-python",
   "name": "python",
   "nbconvert_exporter": "python",
   "pygments_lexer": "ipython3",
   "version": "3.6.7"
  }
 },
 "nbformat": 4,
 "nbformat_minor": 2
}
